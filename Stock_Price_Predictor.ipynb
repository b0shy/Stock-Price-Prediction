{
  "nbformat": 4,
  "nbformat_minor": 0,
  "metadata": {
    "colab": {
      "provenance": []
    },
    "kernelspec": {
      "name": "python3",
      "display_name": "Python 3"
    },
    "language_info": {
      "name": "python"
    }
  },
  "cells": [
    {
      "cell_type": "code",
      "source": [
        "FIRST_NAME = \"Bashar\"\n",
        "LAST_NAME = \"Shabani\"\n",
        "STUDENT_ID = \"801133494\""
      ],
      "metadata": {
        "id": "WYRsq4L6O5VR"
      },
      "execution_count": null,
      "outputs": []
    },
    {
      "cell_type": "markdown",
      "source": [
        "# Stock Price Prediction Using Recurrent Neural Networks (RNN)\n",
        "\n",
        "This notebook implements a stock price prediction model using a Recurrent Neural Network (RNN) with two layers\n",
        "\n",
        "## Project Overview\n",
        "Stock prices are influenced by a variety of factors, and predicting future prices requires models capable of capturing sequential patterns over time. In this project, we will:\n",
        "- Load and preprocess historical stock data from Yahoo Finance.\n",
        "- Experiment with different time window sizes (5 and 10 days) for sequence-based prediction.\n",
        "- Construct and train a two-layer RNN model with dropout layers to reduce overfitting.\n",
        "- Evaluate the model's performance using Mean Squared Error (MSE), Root Mean Squared Error (RMSE), and Mean Absolute Error (MAE).\n",
        "- Visualize the predicted prices against actual prices and assess the model's convergence.\n",
        "- Generate a next-day stock price prediction using the trained model.\n",
        "\n",
        "Each cell in this notebook corresponds to a specific stage in the modeling process, from data loading and preprocessing to model evaluation and visualization.\n",
        "\n",
        "## Libraries Used\n",
        "- `numpy` and `pandas` for data manipulation\n",
        "- `yfinance` for downloading stock data\n",
        "- `tensorflow.keras` for building and training the RNN model\n",
        "- `sklearn` for data scaling and performance metrics\n",
        "- `matplotlib` for data visualization\n",
        "\n",
        "Let's get started!\n"
      ],
      "metadata": {
        "id": "wDwUHgymN7MB"
      }
    },
    {
      "cell_type": "markdown",
      "source": [
        "# Initial Setup: Load Libraries and Download Historical Stock Data\n",
        "This cell sets up the necessary libraries, initializes the stock symbol and date range, and loads historical stock data using Yahoo Finance."
      ],
      "metadata": {
        "id": "LF-z22SXPEVl"
      }
    },
    {
      "cell_type": "code",
      "source": [
        "import numpy as np\n",
        "import matplotlib.pyplot as plt\n",
        "import pandas as pd\n",
        "import datetime as dt\n",
        "import yfinance as yf\n",
        "\n",
        "from sklearn.preprocessing import MinMaxScaler\n",
        "from tensorflow.keras.models import Sequential\n",
        "from tensorflow.keras.layers import Dense, Dropout, SimpleRNN\n",
        "from sklearn.metrics import mean_squared_error, mean_absolute_error\n",
        "\n",
        "# Load historical stock price data from Yahoo Finance\n",
        "company = 'META'  # Specify the stock ticker symbol\n",
        "start = dt.datetime(2012, 1, 1)\n",
        "end = dt.datetime.now()\n",
        "\n",
        "# Download the stock data within the specified date range\n",
        "data = yf.download(company, start=start, end=end)"
      ],
      "metadata": {
        "id": "tDSvnSbvPMoI"
      },
      "execution_count": null,
      "outputs": []
    },
    {
      "cell_type": "markdown",
      "source": [
        "# Data Preprocessing: Normalize Data and Create Sequence Generation Function\n",
        "This cell preprocesses the data by scaling the 'Close' prices for use in the model and defines a function to create input sequences of past values for time series forecasting."
      ],
      "metadata": {
        "id": "L4xQmmE_P3DE"
      }
    },
    {
      "cell_type": "code",
      "source": [
        "# Scale the 'Close' price data to values between 0 and 1 for normalization\n",
        "scaler = MinMaxScaler(feature_range=(0, 1))\n",
        "scaled_data = scaler.fit_transform(data['Close'].values.reshape(-1, 1))\n",
        "\n",
        "# Function to create sequences for time series forecasting based on timesteps\n",
        "def create_sequences(data, timesteps):\n",
        "    x, y = [], []\n",
        "    for i in range(timesteps, len(data)):\n",
        "        x.append(data[i - timesteps:i, 0])  # Create sequences of length `timesteps`\n",
        "        y.append(data[i, 0])  # Target value is the price after the sequence\n",
        "    return np.array(x), np.array(y)"
      ],
      "metadata": {
        "id": "HoNh37lLP-Xn"
      },
      "execution_count": null,
      "outputs": []
    },
    {
      "cell_type": "markdown",
      "source": [
        "# Model Construction: Build and Train Two-Layer RNN Model with Dropout Layers\n",
        "This cell constructs the RNN model architecture, with two SimpleRNN layers and dropout layers to reduce overfitting. It also trains the model on the prepared sequences."
      ],
      "metadata": {
        "id": "NfgS_Jr1QBle"
      }
    },
    {
      "cell_type": "code",
      "source": [
        "# Experiment with two timestep values (5 and 10) as per research\n",
        "timesteps_list = [5, 10]\n",
        "results = {}  # Dictionary to store performance metrics for each timestep\n",
        "\n",
        "# Loop over each timestep configuration to build, train, and evaluate models\n",
        "for timesteps in timesteps_list:\n",
        "    # Prepare training sequences with the specified timestep\n",
        "    x_train, y_train = create_sequences(scaled_data, timesteps)\n",
        "    x_train = np.reshape(x_train, (x_train.shape[0], x_train.shape[1], 1))  # Reshape for RNN input\n",
        "\n",
        "    # Build the RNN model with two layers as specified in the research\n",
        "    model = Sequential()\n",
        "    model.add(SimpleRNN(units=50, return_sequences=True, input_shape=(timesteps, 1)))  # First RNN layer\n",
        "    model.add(Dropout(0.2))  # Dropout layer to prevent overfitting\n",
        "    model.add(SimpleRNN(units=100))  # Second RNN layer with more units\n",
        "    model.add(Dropout(0.2))  # Dropout layer\n",
        "    model.add(Dense(units=1))  # Output layer for predicting the next closing price\n",
        "\n",
        "    model.compile(optimizer='adam', loss='mean_squared_error')  # Compile the model with MSE loss\n",
        "\n",
        "    # Train the model and save the training history for loss visualization\n",
        "    history = model.fit(x_train, y_train, epochs=50, batch_size=64, verbose=1, validation_split=0.2)"
      ],
      "metadata": {
        "id": "K0VTeVvSQLfg",
        "collapsed": true
      },
      "execution_count": null,
      "outputs": []
    },
    {
      "cell_type": "markdown",
      "source": [
        "# Test Data Preparation: Prepare Sequences for Test Data and Make Predictions\n",
        "This cell prepares the test data using a distinct time-based split, processes it, and creates test sequences. It also makes predictions on the test data and scales them back to original values."
      ],
      "metadata": {
        "id": "Gbh5vI1NQT_M"
      }
    },
    {
      "cell_type": "code",
      "source": [
        "    # Prepare test data starting from 2021 for a realistic split, ensuring unseen data for testing\n",
        "    test_start = dt.datetime(2021, 1, 1)\n",
        "    test_end = dt.datetime.now()\n",
        "    test_data = yf.download(company, start=test_start, end=test_end)\n",
        "    actual_prices = test_data['Close'].values  # Actual closing prices for comparison\n",
        "\n",
        "    # Combine the entire dataset for testing and transform the 'Close' prices\n",
        "    total_dataset = pd.concat((data['Close'], test_data['Close']), axis=0)\n",
        "    model_inputs = total_dataset[len(total_dataset) - len(test_data) - timesteps:].values\n",
        "    model_inputs = model_inputs.reshape(-1, 1)  # Reshape for scaling\n",
        "    model_inputs = scaler.transform(model_inputs)  # Scale the combined dataset\n",
        "\n",
        "    # Create test sequences for prediction based on the `timesteps`\n",
        "    x_test, y_test = create_sequences(model_inputs, timesteps)\n",
        "    x_test = np.reshape(x_test, (x_test.shape[0], x_test.shape[1], 1))  # Reshape for RNN input\n",
        "\n",
        "    # Make predictions\n",
        "    predicted_prices = model.predict(x_test)\n",
        "    predicted_prices = scaler.inverse_transform(predicted_prices)  # Transform predictions back to original scale"
      ],
      "metadata": {
        "id": "nG8NZPYzQbfz"
      },
      "execution_count": null,
      "outputs": []
    },
    {
      "cell_type": "markdown",
      "source": [
        "# Performance Evaluation: Calculate Metrics and Visualize Predictions\n",
        "This cell calculates the MSE, RMSE, and MAE for model evaluation, then plots both the actual vs. predicted prices and the training/validation loss to visualize model accuracy and convergence."
      ],
      "metadata": {
        "id": "41B3WoOZQdUd"
      }
    },
    {
      "cell_type": "code",
      "source": [
        "    # Calculate performance metrics: MSE, RMSE, and MAE\n",
        "    mse = mean_squared_error(actual_prices[-len(predicted_prices):], predicted_prices)\n",
        "    rmse = np.sqrt(mse)\n",
        "    mae = mean_absolute_error(actual_prices[-len(predicted_prices):], predicted_prices)\n",
        "    results[timesteps] = {'MSE': mse, 'RMSE': rmse, 'MAE': mae}  # Store metrics for comparison\n",
        "\n",
        "    # Plot actual vs. predicted prices for each timestep configuration\n",
        "    plt.figure(figsize=(14, 5))\n",
        "    plt.plot(actual_prices, color=\"black\", label=f\"Actual {company} Price\")\n",
        "    plt.plot(range(len(actual_prices) - len(predicted_prices), len(actual_prices)), predicted_prices,\n",
        "             color=\"green\", label=f\"Predicted {company} Price (timesteps={timesteps})\")\n",
        "    plt.title(f\"{company} Share Price Prediction\")\n",
        "    plt.xlabel('Time')\n",
        "    plt.ylabel(f'{company} Share Price')\n",
        "    plt.legend()\n",
        "    plt.show()\n",
        "\n",
        "    # Plot training and validation loss for the current model to assess convergence\n",
        "    plt.figure(figsize=(10, 5))\n",
        "    plt.plot(history.history['loss'], label='Training Loss')\n",
        "    plt.plot(history.history['val_loss'], label='Validation Loss')\n",
        "    plt.title(f\"Training and Validation Loss (timesteps={timesteps})\")\n",
        "    plt.xlabel('Epochs')\n",
        "    plt.ylabel('Loss')\n",
        "    plt.legend()\n",
        "    plt.show()"
      ],
      "metadata": {
        "id": "ZckCI3YkQhVP"
      },
      "execution_count": null,
      "outputs": []
    },
    {
      "cell_type": "markdown",
      "source": [
        "# Next-Day Prediction and Summary: Generate Next-Day Forecast and Display Metrics\n",
        "This cell includes the next-day prediction for the latest data, along with a summary of performance metrics (MSE, RMSE, MAE) for each timestep configuration."
      ],
      "metadata": {
        "id": "0NHnsdmsQoMF"
      }
    },
    {
      "cell_type": "code",
      "source": [
        "    # Predict the next day price based on the latest available data\n",
        "    real_data = [model_inputs[len(model_inputs) - timesteps:len(model_inputs), 0]]\n",
        "    real_data = np.array(real_data)\n",
        "    real_data = np.reshape(real_data, (real_data.shape[0], real_data.shape[1], 1))  # Reshape for model input\n",
        "\n",
        "    prediction = model.predict(real_data)  # Predict the next day price\n",
        "    prediction = scaler.inverse_transform(prediction)  # Transform prediction back to original scale\n",
        "    print(f\"Next Day Prediction with timesteps={timesteps}: {prediction[0][0]}\")\n",
        "\n",
        "# Display and compare performance metrics for each timestep configuration\n",
        "print(\"Performance Comparison:\")\n",
        "for timesteps, metrics in results.items():\n",
        "  print(f\"\\nTimesteps: {timesteps}\")\n",
        "  print(f\"MSE: {metrics['MSE']}\")\n",
        "  print(f\"RMSE: {metrics['RMSE']}\")\n",
        "  print(f\"MAE: {metrics['MAE']}\")\n"
      ],
      "metadata": {
        "id": "g8Y51DbjQuxI"
      },
      "execution_count": null,
      "outputs": []
    },
    {
      "cell_type": "markdown",
      "source": [
        "# Conclusion\n",
        "\n",
        "In this project, we successfully implemented a stock price prediction model using a two-layer Recurrent Neural Network (RNN). By experimenting with different timesteps (5 and 10 days), we were able to analyze how the model performs with varying historical window sizes.\n",
        "\n",
        "## Key Takeaways\n",
        "- **Data Preprocessing**: Scaling and creating sequences were crucial steps in preparing the stock data for time series forecasting.\n",
        "- **Model Architecture**: The two-layer RNN with dropout layers effectively captured sequential patterns in the stock prices, helping to predict future prices.\n",
        "- **Performance Evaluation**: We evaluated the model using MSE, RMSE, and MAE, observing that different timesteps affect accuracy and error.\n",
        "- **Next-Day Prediction**: The model provided a next-day prediction based on the most recent data, showcasing its ability to make real-time forecasts."
      ],
      "metadata": {
        "id": "tqpp0UG4RDzQ"
      }
    }
  ]
}